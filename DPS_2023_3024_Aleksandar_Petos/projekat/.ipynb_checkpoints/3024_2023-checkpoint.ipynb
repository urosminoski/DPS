{
 "cells": [
  {
   "cell_type": "markdown",
   "id": "173d6623-ace4-4e22-ad59-e293f917d0c0",
   "metadata": {},
   "source": [
    "# Kratak izvještaj rezultata projekta iz predmeta Digitalni procesori signala"
   ]
  },
  {
   "cell_type": "markdown",
   "id": "b1c3076a-2073-471d-8d75-75201154bf25",
   "metadata": {},
   "source": [
    "## Student: Aleksandar Petoš, 3024/2023"
   ]
  },
  {
   "cell_type": "code",
   "execution_count": null,
   "id": "6832e358-34b6-4fef-8b56-347a37ac50bf",
   "metadata": {},
   "outputs": [],
   "source": [
    "USE_WIDGETS = True\n",
    "\n",
    "def importEssentialLibs(USE_WIDGETS):\n",
    "    import numpy as np\n",
    "    if USE_WIDGETS:\n",
    "        %matplotlib widget\n",
    "    else:\n",
    "        %matplotlib inline\n",
    "    import matplotlib as mpl\n",
    "    mpl.rc('text', usetex = True)\n",
    "    mpl.rc('font', family = 'serif', size = 18)\n",
    "    import matplotlib.pyplot as plt\n",
    "    \n",
    "    return np, mpl, plt\n",
    "\n",
    "np, mpl, plt = importEssentialLibs(USE_WIDGETS)\n",
    "import scipy.fft as fft\n",
    "import IPython\n",
    "from IPython.display import Markdown\n",
    "from scipy.io import wavfile\n",
    "from scipy.signal import chirp, spectrogram\n",
    "import scipy.signal as signal\n",
    "import pickle \n",
    "import scipy.io as sio\n",
    "from scipy.signal import butter, lfilter, freqz\n",
    "from scipy.signal import firwin, convolve\n",
    "from fxpmath import Fxp"
   ]
  },
  {
   "cell_type": "markdown",
   "id": "2559b255-24be-482e-ba7c-9535c920b7c5",
   "metadata": {},
   "source": [
    "# Određivanje daljine objekata iz signala sonara na DSP platformi"
   ]
  },
  {
   "cell_type": "markdown",
   "id": "a21b7bb9-f1e5-4143-8c39-e6c4d2dc465a",
   "metadata": {},
   "source": [
    "# 1.1 Python"
   ]
  },
  {
   "cell_type": "markdown",
   "id": "0dfc49ef-d357-48d5-8741-60cb702fb2a7",
   "metadata": {},
   "source": [
    "## Učitavanje neophodnih fajlova iz MATLAB-a"
   ]
  },
  {
   "cell_type": "code",
   "execution_count": null,
   "id": "8c5028b5-d6d5-4300-a4b1-91e9b36c4001",
   "metadata": {},
   "outputs": [],
   "source": [
    "matContentsProject = sio.loadmat('signals/sonar_signals.mat')\n",
    "rxChirp = matContentsProject['rxChirp'].squeeze()\n",
    "txChirp = matContentsProject['txChirp'].squeeze()\n",
    "fs = 200000"
   ]
  },
  {
   "cell_type": "markdown",
   "id": "ca6a6e7d-8796-4a2e-b1bc-a164f8854016",
   "metadata": {},
   "source": [
    "## Korisno za prikazivanje spektrograma"
   ]
  },
  {
   "cell_type": "code",
   "execution_count": null,
   "id": "d2bc5efb-a8bd-4a0a-a594-716fcbb8dea2",
   "metadata": {},
   "outputs": [],
   "source": [
    "def plot_spectrogram(title, x, fs):\n",
    "    f1 = 60000\n",
    "    f0 = 20000\n",
    "    T = 0.01\n",
    "    beta = (f1 - f0) / T\n",
    "    c = 1500 # ~speed of sound in water\n",
    "    Nwin = 128            \n",
    "    window = signal.triang(Nwin) \n",
    "    NFFT = Nwin                          # >= od nperseg = 256 po default\n",
    "    fMaxShow = fs//2\n",
    "    fMaxIndex = NFFT*fMaxShow//fs\n",
    "    \n",
    "    fig, axs = plt.subplots(figsize = [10, 5])\n",
    "    plt.subplots_adjust(bottom=0.15, left = 0.15)\n",
    "    ff, tt, Sxx = signal.spectrogram(x, fs=fs, window = window, noverlap = None, nfft=NFFT, nperseg = Nwin,\n",
    "                                     return_onesided=True, scaling='spectrum', mode='complex') \n",
    "    \n",
    "    dd = ff*c/(2*beta)\n",
    "\n",
    "    plt.pcolormesh(tt, ff[:fMaxIndex], 20*np.log10(abs(Sxx[:][:fMaxIndex])), shading='nearest') #cmap='gray_r')\n",
    "    plt.title(title)\n",
    "    plt.xlabel(r'$t$ [s]')\n",
    "    plt.ylabel(r'$f$ [Hz]')\n",
    "    #plt.ylabel(r'$d$ [m]')\n",
    "    plt.grid()\n"
   ]
  },
  {
   "cell_type": "code",
   "execution_count": null,
   "id": "9fbc5d48-346f-4df7-8bc7-c8295fcc963d",
   "metadata": {},
   "outputs": [],
   "source": [
    "plot_spectrogram(r'$tx_{chrip}[n]$', txChirp, 200000)\n",
    "plot_spectrogram(r'$rx_{chrip}[n]$', rxChirp, 200000)\n",
    "plot_spectrogram(r'$mixed[n]$', txChirp*rxChirp, 200000)"
   ]
  },
  {
   "cell_type": "markdown",
   "id": "8dc5e633-6881-4a3f-9ac2-0443a61f964d",
   "metadata": {},
   "source": [
    "## Funkcija u Python-u koja projektuje NF filtar"
   ]
  },
  {
   "cell_type": "code",
   "execution_count": null,
   "id": "970bda81-deb5-450e-ad8b-86933ac11a3e",
   "metadata": {},
   "outputs": [],
   "source": [
    "# Function to create an FIR low-pass filter\n",
    "def fir_lowpass(cutoff, fs, num_taps=50):\n",
    "    nyquist = 0.5 * fs\n",
    "    normal_cutoff = cutoff / nyquist\n",
    "    taps = firwin(num_taps, normal_cutoff, window='hamming')\n",
    "    return taps\n",
    "decimation_filter_python = fir_lowpass(20000, fs, num_taps=50)"
   ]
  },
  {
   "cell_type": "markdown",
   "id": "6df59c3a-a1c0-4b2c-bb3d-449eb0340612",
   "metadata": {},
   "source": [
    "## Može se koristiti i filtar za decimaciju dva puta iz MATLAB-a a koji je generisan putem filterDesigner-a"
   ]
  },
  {
   "cell_type": "code",
   "execution_count": null,
   "id": "2a4e2686-7f91-43ad-81e9-05c288a50d79",
   "metadata": {},
   "outputs": [],
   "source": [
    "matContentsFilter = sio.loadmat('signals/decimation_filter.mat')\n",
    "decimation_filter_matlab = matContentsFilter['filter'].squeeze()[:-1]"
   ]
  },
  {
   "cell_type": "markdown",
   "id": "61399f96-7de9-47b0-839f-d4e41c59f9a1",
   "metadata": {},
   "source": [
    "## Za realizaciju polifaznog filtra potrebne su sekcije koje se sastoje od istog broja elemenata, zato se uzima paran broj koeficijenata filtra"
   ]
  },
  {
   "cell_type": "code",
   "execution_count": null,
   "id": "861ae19a-757f-4002-b2df-e8a1a841b50b",
   "metadata": {},
   "outputs": [],
   "source": [
    "filtered_signal_python = lfilter(decimation_filter_python, 1.0, txChirp*rxChirp)\n",
    "filtered_signal_matlab = lfilter(decimation_filter_matlab, 1.0, txChirp*rxChirp)\n",
    "plot_spectrogram(r'$filtered\\_signal\\_python[n]$', filtered_signal_python, 200000)\n",
    "plot_spectrogram(r'$filtered\\_signal\\_matlab[n]$', filtered_signal_matlab, 200000)"
   ]
  },
  {
   "cell_type": "markdown",
   "id": "16a5e018-7907-44ce-a753-375d93d61fea",
   "metadata": {},
   "source": [
    "## Amplitudska i fazna karakteristika korišćenog filtra iz Python-a"
   ]
  },
  {
   "cell_type": "code",
   "execution_count": null,
   "id": "3c1d7c1a-8668-4dc0-9f5a-808337617347",
   "metadata": {},
   "outputs": [],
   "source": [
    "fig = plt.figure(figsize = (12,5))\n",
    "plt.subplots_adjust(wspace = 0.3)\n",
    "# Frekvencijska karakteristika\n",
    "w, h = freqz(decimation_filter_python, 1, worN=fs//2)\n",
    "Ha = abs(h)\n",
    "    \n",
    "ax2 = fig.add_subplot(1,2,1)\n",
    "ax2.plot(0.5*fs*w/np.pi, Ha)\n",
    "ax2.set_title('Amplitudska karakteristika')\n",
    "ax2.set_ylabel('$|H(j\\omega)|$')\n",
    "ax2.set_xlabel('$\\omega$');\n",
    "\n",
    "\n",
    "ax3 = fig.add_subplot(1,2,2)\n",
    "ax3.plot(0.5*fs*w/np.pi, np.unwrap(np.angle(h)))\n",
    "ax3.set_title('Fazna karakteristika')\n",
    "ax3.set_ylabel('$X_p(j\\omega)$')\n",
    "ax3.set_xlabel('$\\omega$');\n"
   ]
  },
  {
   "cell_type": "markdown",
   "id": "918dc4e5-b7a0-491c-b304-23dd1babc040",
   "metadata": {},
   "source": [
    "## Funkcije koje implementiraju polifazne filtre, gdje su pojedinačni filtri realizovani kao direktni i direktni-transponovani"
   ]
  },
  {
   "cell_type": "code",
   "execution_count": null,
   "id": "c8b8fcef-da0c-4b0a-b51c-727a9af5525b",
   "metadata": {},
   "outputs": [],
   "source": [
    "def polyphase_decimate_fir_direct(input_signal, nf_filter, factor):\n",
    "    x = input_signal\n",
    "    # Split the coefficients of NF filter into polyphase components\n",
    "    num_phases = factor\n",
    "    polyphase_sections = [nf_filter[i::num_phases] for i in range(num_phases)]\n",
    "    h0 = polyphase_sections[0]\n",
    "    h1 = polyphase_sections[1]\n",
    "    \n",
    "    M0 = len(h0)\n",
    "    M1 = len(h1)\n",
    "    delayLine0 = np.zeros(M0)\n",
    "    delayLine1 = np.zeros(M1)\n",
    "    output_signal = np.zeros(round(len(x)/num_phases))\n",
    "    y0 = np.zeros(len(x))\n",
    "    y1 = np.zeros(len(x))\n",
    "    i = 0\n",
    "    temp = 0\n",
    "    for n in range(len(x)):\n",
    "        if (n % 2 == 0):\n",
    "            delayLine0[1:] = delayLine0[:M0-1]\n",
    "            delayLine0[0] = x[n]\n",
    "            for m in range(M0):\n",
    "                y0[n] += h0[m]*delayLine0[m]\n",
    "            output_signal[i] = y0[n] + temp\n",
    "            i = i + 1\n",
    "        else:\n",
    "            delayLine1[1:] = delayLine1[:M1-1]\n",
    "            delayLine1[0] = x[n]\n",
    "            for m in range(M1):\n",
    "                y1[n] += h1[m]*delayLine1[m]\n",
    "            temp = y1[n]\n",
    "    return output_signal\n",
    "\n",
    "def polyphase_decimate_fir_direct_transposed(input_signal, nf_filter, factor):\n",
    "    x = input_signal\n",
    "    # Split the coefficients of NF filter into polyphase components\n",
    "    num_phases = factor\n",
    "    polyphase_sections = [nf_filter[i::num_phases] for i in range(num_phases)]\n",
    "    h0 = polyphase_sections[0]\n",
    "    h1 = polyphase_sections[1]\n",
    "    \n",
    "    M0 = len(h0)\n",
    "    M1 = len(h1)\n",
    "    \n",
    "    mul0 = np.zeros(M0)\n",
    "    mul1 = np.zeros(M1)\n",
    "    reg0 = np.zeros(M0)\n",
    "    reg1 = np.zeros(M1)\n",
    "    y0 = np.zeros(len(x))\n",
    "    y1 = np.zeros(len(x))\n",
    "    \n",
    "    temp = 0\n",
    "    output_signal = np.zeros(round(len(x)/num_phases))\n",
    "\n",
    "    i = 0\n",
    "\n",
    "    for n in range(len(x)):\n",
    "        if (n % 2 == 0):\n",
    "            for j in range(M0):\n",
    "                mul0[j] = h0[j] * x[n]\n",
    "            y0[n] = mul0[0] + reg0[0]\n",
    "            output_signal[i] = y0[n] + temp\n",
    "            i = i + 1\n",
    "            # Side effect, prepare for next\n",
    "            for k in range(0, M0-1):\n",
    "                reg0[k] = mul0[k+1] + reg0[k+1]\n",
    "           \n",
    "        else:\n",
    "            for j in range(M1):\n",
    "                mul1[j] = h1[j] * x[n]\n",
    "            y1[n] = mul1[0] + reg1[0]\n",
    "            temp = y1[n]\n",
    "            \n",
    "            # Side effect, prepare for next\n",
    "            for k in range(0, M1-1):\n",
    "                reg1[k] = mul1[k+1] + reg1[k+1]\n",
    "            \n",
    "    return output_signal    "
   ]
  },
  {
   "cell_type": "markdown",
   "id": "1f583065-4d71-4e4a-a002-a42fcd554ec5",
   "metadata": {},
   "source": [
    "## Rezultat decimacije proizvoda predajnog i prijemnih chirp signala"
   ]
  },
  {
   "cell_type": "code",
   "execution_count": null,
   "id": "3ed5f347-509b-4006-a1f3-bc77b2a0d57c",
   "metadata": {},
   "outputs": [],
   "source": [
    "mixed_signal = rxChirp*txChirp"
   ]
  },
  {
   "cell_type": "code",
   "execution_count": null,
   "id": "8ec824d4-ce96-4695-ab05-43b8f0ad7fc5",
   "metadata": {},
   "outputs": [],
   "source": [
    "rez1 = polyphase_decimate_fir_direct(mixed_signal, decimation_filter_python, 2)\n",
    "plot_spectrogram(r'$decimation\\_result\\_direct[n]$', rez1, 100000)"
   ]
  },
  {
   "cell_type": "code",
   "execution_count": null,
   "id": "715be05d-9e95-4582-9fb0-48adb2db5aed",
   "metadata": {},
   "outputs": [],
   "source": [
    "rez2 = polyphase_decimate_fir_direct_transposed(mixed_signal, decimation_filter_python, 2)\n",
    "plot_spectrogram(r'$decimation\\_result\\_direct\\_transposed[n]$', rez2, 100000)"
   ]
  },
  {
   "cell_type": "markdown",
   "id": "28d33f33-b6e5-43da-90f0-4c4b56bbd583",
   "metadata": {},
   "source": [
    "## Razlika u realizacijama"
   ]
  },
  {
   "cell_type": "code",
   "execution_count": null,
   "id": "28610a33-d8a8-4ea4-806d-8398fea8addb",
   "metadata": {},
   "outputs": [],
   "source": [
    "error = rez1-rez2\n",
    "print(np.sum(abs(error)))"
   ]
  },
  {
   "cell_type": "markdown",
   "id": "13f4d38e-909e-4a45-8ca7-23bb6170d1f9",
   "metadata": {},
   "source": [
    "## Prikaz spektra originalnog i decimiranog signala"
   ]
  },
  {
   "cell_type": "code",
   "execution_count": null,
   "id": "6570f626-c09a-4a38-9ed6-7d6d4b36404c",
   "metadata": {},
   "outputs": [],
   "source": [
    "fig = plt.figure(figsize = (14,6))\n",
    "plt.subplots_adjust(bottom=0.3,wspace = 0.3)\n",
    "\n",
    "\n",
    "f1 = 60000\n",
    "f0 = 20000\n",
    "T = 0.01\n",
    "beta = (f1 - f0) / T\n",
    "c = 1500 # ~speed of sound in water\n",
    "\n",
    "\n",
    "fft_result2 = np.fft.fft(mixed_signal)\n",
    "frequencies2 = np.fft.fftfreq(len(fft_result2), 1/fs)\n",
    "dd2 = frequencies2*c/(2*beta)\n",
    "\n",
    "ax2 = fig.add_subplot(1,2,1)\n",
    "ax2.plot(dd2[:len(dd2)//2], np.abs(fft_result2[:len(fft_result2)//2]))\n",
    "ax2.set_title('Amplitudska karakteristika originalnog signala', pad = 20)\n",
    "ax2.set_ylabel('$Amplitude$')\n",
    "ax2.set_xlabel('$Distance[m]$');\n",
    "\n",
    "fft_result1 = np.fft.fft(rez1)\n",
    "fs_decimated = fs/2\n",
    "frequencies1 = np.fft.fftfreq(len(fft_result1), 1/fs_decimated)\n",
    "dd1 = frequencies1*c/(2*beta)\n",
    "\n",
    "ax3 = fig.add_subplot(1,2,2)\n",
    "ax3.plot(dd1[:len(dd1)//2], np.abs(fft_result1[:len(fft_result1)//2]))\n",
    "ax3.set_title('Amplitudska karakteristika decimiranog signala', pad = 20)\n",
    "ax3.set_ylabel('$Amplitude$')\n",
    "ax3.set_xlabel('$Distance[m]$');\n",
    "\n"
   ]
  },
  {
   "cell_type": "markdown",
   "id": "20007033-fbd0-4beb-9668-7e9764e3079f",
   "metadata": {},
   "source": [
    "## Mete se nalaze na udaljenostima"
   ]
  },
  {
   "cell_type": "code",
   "execution_count": null,
   "id": "a033e36b-a9ab-4481-90ac-1bcd7c7d3bf5",
   "metadata": {},
   "outputs": [],
   "source": [
    "abs_signal = np.abs(fft_result1[:len(fft_result1)//2])\n",
    "# svi lokalni maksimumi\n",
    "peaksPos = signal.argrelextrema(abs_signal, np.greater)[0]\n",
    "# indeksi lokalnih maksimuma koji su najveci\n",
    "maxPeaksPos = np.argsort(-abs_signal[peaksPos]) \n",
    "maxPeakIndex = peaksPos[maxPeaksPos][:2]\n",
    "distance1 = frequencies1[maxPeakIndex[0]]*c/(2*beta)\n",
    "distance2 = frequencies1[maxPeakIndex[1]]*c/(2*beta)\n",
    "print(np.round(distance1,2),np.round(distance2,2))"
   ]
  },
  {
   "cell_type": "markdown",
   "id": "e4ddcb86-c660-44cb-8c62-a3df6d4d8a9b",
   "metadata": {},
   "source": [
    "# 1.2 Implementacija na DSP platformi "
   ]
  },
  {
   "cell_type": "markdown",
   "id": "68a5eebf-b7f0-4e2a-9b70-edcbe5c60d24",
   "metadata": {},
   "source": [
    "## Upis signala i koeficijenata u .txt fajl kako bi se iskoristio za testiranje asemblerske funkcije"
   ]
  },
  {
   "cell_type": "code",
   "execution_count": null,
   "id": "2e549137-962b-4f08-86f7-fbd5fa00dd7e",
   "metadata": {},
   "outputs": [],
   "source": [
    "# Scaling signal\n",
    "mixed_signal_scaled = mixed_signal#/(np.max([abs(min(mixed_signal)), abs(max(mixed_signal))]))\n",
    "mixed_signal_scaled_fxp = (Fxp(mixed_signal_scaled, signed = True, n_word = 16, n_frac = 15, overflow = 'saturate', rounding = 'floor')).get_val()\n",
    "mixed_signal_scaled_int = (np.round(mixed_signal_scaled_fxp*2**15)).astype(np.int16)\n",
    "\n",
    "# # Open a file for writing input signal\n",
    "# with open(\"input_signal_integer_for_asm.txt\", \"w\") as output_file:\n",
    "#     for i in range(len(mixed_signal_scaled_int)):\n",
    "#         # Write to file\n",
    "#         output_file.write(f\"{(mixed_signal_scaled_int[i])}\\n\")\n"
   ]
  },
  {
   "cell_type": "code",
   "execution_count": null,
   "id": "e128ad5d-ccb0-42c3-9cad-a7c6c8f2a90f",
   "metadata": {},
   "outputs": [],
   "source": [
    "# Scaling coefficients\n",
    "coefficients_scaled = decimation_filter_python#/(np.max([abs(min(decimation_filter_matlab)), abs(max(decimation_filter_matlab))]))\n",
    "coefficients_scaled_fxp = (Fxp(coefficients_scaled, signed = True, n_word = 16, n_frac = 15, overflow = 'saturate', rounding = 'floor')).get_val()\n",
    "coefficients_scaled_int = (np.round(coefficients_scaled_fxp*2**15)).astype(np.int16)\n",
    "\n",
    "# # Open a file for writing coefficients\n",
    "# with open(\"coefficients_integer_for_asm.txt\", \"w\") as output_file:\n",
    "#     for i in range(len(coefficients_scaled_int)):\n",
    "#         # Write to file\n",
    "#         output_file.write(f\"{(coefficients_scaled_int[i])}\\n\")"
   ]
  },
  {
   "cell_type": "markdown",
   "id": "731723bb-d073-4f3e-843e-49fcbdc2d7dd",
   "metadata": {},
   "source": [
    "## Nakon izvršavanja decimacije na DSP platformi funkcijom polyphaseDecimate.asm, rezultat je upisan u .txt fajl i poslat u ovu skriptu"
   ]
  },
  {
   "cell_type": "markdown",
   "id": "4b06d7c4-c42d-424e-8cb8-12c47fbd8371",
   "metadata": {},
   "source": [
    "## Učitavanje dobijenog signala i prikaz njegovog spektra"
   ]
  },
  {
   "cell_type": "code",
   "execution_count": null,
   "id": "7afe5dad-1725-4aff-a4f2-872694a7ab84",
   "metadata": {},
   "outputs": [],
   "source": [
    "num_values = 0\n",
    "NUM_ELEMENTS = 1024\n",
    "rez_asm = np.zeros(NUM_ELEMENTS).astype(np.int16)\n",
    "with open(\"output_signal_decimate_asm.txt\", \"r\") as input_file:\n",
    "    # Read from file\n",
    "    for line in input_file:\n",
    "        rez_asm[num_values] = int(line)\n",
    "        num_values += 1\n",
    "        if num_values == (NUM_ELEMENTS):\n",
    "            break"
   ]
  },
  {
   "cell_type": "code",
   "execution_count": null,
   "id": "b59281e7-6185-441b-9b4f-ee5e31fcc066",
   "metadata": {},
   "outputs": [],
   "source": [
    "fig = plt.figure(figsize = (14,6))\n",
    "plt.subplots_adjust(bottom=0.3, wspace = 0.3)\n",
    "fs_decimated = fs/2\n",
    "fft_result3 = np.fft.fft(rez_asm)\n",
    "frequencies3 = np.fft.fftfreq(len(fft_result3), 1/fs_decimated)\n",
    "dd3 = frequencies3*c/(2*beta)\n",
    "\n",
    "ax2 = fig.add_subplot(1,2,1)\n",
    "ax2.plot(dd3[:len(dd3)//4], np.abs(fft_result3[:len(fft_result3)//4]))\n",
    "ax2.set_title('Amplitudska karakteristika signala decimiranog na DSP',pad = 20)\n",
    "ax2.set_ylabel('$Amplitude$')\n",
    "ax2.set_xlabel('$Distance[m]$');"
   ]
  },
  {
   "cell_type": "markdown",
   "id": "b8670086-75cc-4dfa-b993-2bcfbae78dc0",
   "metadata": {},
   "source": [
    "## Isti .txt fajl se prosljeđuje u projekat peakDetector koji čita ovaj fajl i radi Furijeovu transformaciju pomoću ugrađenog FFT bloka na DSP platformi"
   ]
  },
  {
   "cell_type": "markdown",
   "id": "9baffcfa-3bb8-4735-ac27-51aea71e6213",
   "metadata": {},
   "source": [
    "## Nakon toga radi se određivanje pozicije maksimuma i skaliraju se pozicije tako da se dobiju udaljenosti"
   ]
  },
  {
   "cell_type": "markdown",
   "id": "affb4d94-f7f1-4550-875b-e982e6747b07",
   "metadata": {},
   "source": [
    "## Rezultat koji se dobija prikazan je na slici koja je data u prilogu"
   ]
  },
  {
   "cell_type": "markdown",
   "id": "e5e4657e-2663-4c97-a5f0-27b1655442d2",
   "metadata": {},
   "source": [
    "<img src=\"images/distances.PNG\" width=\"800\"/>"
   ]
  },
  {
   "cell_type": "markdown",
   "id": "0d1ea19f-3ab2-4dc9-abd7-0de8f338d614",
   "metadata": {},
   "source": [
    "# Implementacija polifaznog filtra u VHDL-u"
   ]
  },
  {
   "cell_type": "markdown",
   "id": "7fcaa869-f0db-4870-afc8-edd938e3508f",
   "metadata": {},
   "source": [
    "# 2.1 Python"
   ]
  },
  {
   "cell_type": "markdown",
   "id": "0b1aaf1a-71af-41d4-9914-23f13a281325",
   "metadata": {},
   "source": [
    "## Potrebni signali za ovaj dio"
   ]
  },
  {
   "cell_type": "code",
   "execution_count": null,
   "id": "af5ec40a-3c7d-4145-bdf5-96cca3268e7d",
   "metadata": {},
   "outputs": [],
   "source": [
    "h = np.array([-0.0136, -0.0139, 0.0254, 0.0523, -0.0124, -0.0880, 0.0252, 0.3169, \\\n",
    "              0.4807, 0.3169, 0.0252, -0.0880, -0.0124, 0.0523, 0.0254, -0.0139])\n",
    "nh = np.arange(len(h))\n",
    "# Definisanje ulaznog signala, zbir 2 sinusoide\n",
    "F1 = 0.43\n",
    "F2 = 0.1\n",
    "N = 100\n",
    "n = np.arange(N) \n",
    "x = np.sin(2*np.pi*F1*n) + np.sin(2*np.pi*F2*n)\n",
    "x = x/(np.max([abs(min(x)), abs(max(x))]))\n",
    "\n",
    "\n",
    "# overflow moze biti 'saturate' ili 'wrap'\n",
    "overFlowMethod =  'saturate'\n",
    "\n",
    "\n",
    "# rounding moze biti 'floor' , 'trunc' , 'around', 'ceil', 'fix'\n",
    "roundingMethod = 'floor'\n",
    "\n",
    "# x = x/(1-2**(-7)- (-1))\n",
    "xFxp = Fxp(x, signed = True, n_word = 8, n_frac = 7, overflow = overFlowMethod, rounding = roundingMethod)\n",
    "hFxp = Fxp(h, signed = True, n_word = 8, n_frac = 7, overflow = overFlowMethod, rounding = roundingMethod)\n",
    "\n",
    "value_h = (hFxp.get_val())\n",
    "value_x = (xFxp.get_val())\n"
   ]
  },
  {
   "cell_type": "markdown",
   "id": "c3fffbd7-7a37-4d17-9378-7617fafd4d96",
   "metadata": {},
   "source": [
    "## Testiranje decimacije za generisani signal"
   ]
  },
  {
   "cell_type": "code",
   "execution_count": null,
   "id": "adcdcbfc-cc6c-4bff-b19a-0283e8f095bc",
   "metadata": {},
   "outputs": [],
   "source": [
    "decimated_signal_my_fun_direct = polyphase_decimate_fir_direct(x, h, 2)\n",
    "decimated_signal_my_fun_direct_transposed = polyphase_decimate_fir_direct_transposed(x, h, 2)\n",
    "\n",
    "fig, axs = plt.subplots(figsize = [10, 5])\n",
    "plt.subplots_adjust(bottom=0.15, left = 0.15)\n",
    "plt.plot((n)[::2], decimated_signal_my_fun_direct, color = \"g\", label = \"Polyphase decimated FIR direct\")\n",
    "plt.plot((n)[::2], decimated_signal_my_fun_direct_transposed, \"b\", label = \"Polyphase decimated FIR direct transposed\")\n",
    "plt.plot(n, x, \"y\" , label = \"Original\");\n",
    "plt.legend();"
   ]
  },
  {
   "cell_type": "markdown",
   "id": "bf30464e-72e4-4874-a0be-0265579e3171",
   "metadata": {},
   "source": [
    "## Fixed-point analiza"
   ]
  },
  {
   "cell_type": "markdown",
   "id": "af341ba4-e7d2-4661-b8f9-f6998c98d849",
   "metadata": {},
   "source": [
    "## Polyphase decimate fir direct transposed fxp"
   ]
  },
  {
   "cell_type": "code",
   "execution_count": null,
   "id": "81d5d42c-57c6-4ae8-92ab-7562363f330b",
   "metadata": {},
   "outputs": [],
   "source": [
    "def polyphase_decimate_fir_direct_transposed_fxp(input_signal, nf_filter, factor, outFxpFormat = None):\n",
    "    x = input_signal\n",
    "    # Split the coefficients of NF filter into polyphase components\n",
    "    num_phases = factor\n",
    "    polyphase_sections = [nf_filter[i::num_phases] for i in range(num_phases)]\n",
    "    h0 = polyphase_sections[0]\n",
    "    h1 = polyphase_sections[1]\n",
    "    \n",
    "    M0 = len(h0)\n",
    "    M1 = len(h1)\n",
    "    \n",
    "    \n",
    "    if outFxpFormat == None:\n",
    "        y0 = Fxp(np.zeros(len(x)), signed = True, n_word = x.n_word + h0.n_word +int(np.ceil(np.log2(M0))), n_frac = x.n_frac + h0.n_frac)\n",
    "        y1 = Fxp(np.zeros(len(x)), signed = True, n_word = x.n_word + h1.n_word +int(np.ceil(np.log2(M1))), n_frac = x.n_frac + h1.n_frac)\n",
    "\n",
    "    else:\n",
    "        y0 = Fxp(np.zeros(len(x)), dtype = outFxpFormat)\n",
    "        y1 = Fxp(np.zeros(len(x)), dtype = outFxpFormat)\n",
    "\n",
    "    y0.overflow = x.overflow\n",
    "    y1.overflow = x.overflow\n",
    "\n",
    "    y0.rounding = x.rounding\n",
    "    y1.rounding = x.rounding\n",
    "\n",
    "    mul0 = Fxp(np.zeros(M0), like = y0) \n",
    "    mul1 = Fxp(np.zeros(M1), like = y1) \n",
    "    \n",
    "    reg0 = Fxp(np.zeros(M0), like = y0) \n",
    "    reg1 = Fxp(np.zeros(M1), like = y1)\n",
    "    \n",
    "    output_signal = Fxp(np.zeros(round(len(x)/num_phases)), like = y0)\n",
    "    \n",
    "    temp = Fxp(0, like = y1)\n",
    "    i = 0\n",
    "\n",
    "    for n in range(len(x)):\n",
    "        if (n % 2 == 0):\n",
    "            for j in range(M0):\n",
    "                mul0[j] = Fxp(h0[j] * x[n], like = mul0)\n",
    "            y0[n] = Fxp(mul0[0] + reg0[0], like = y0)\n",
    "            output_signal[i] = Fxp(y0[n]+temp, like = output_signal)\n",
    "            i = i + 1\n",
    "            # Side effect, prepare for next\n",
    "            for k in range(0, M0-1):\n",
    "                reg0[k] = Fxp(mul0[k+1] + reg0[k+1], like = reg0)\n",
    "           \n",
    "        else:\n",
    "            for j in range(M1):\n",
    "                mul1[j] = Fxp(h1[j] * x[n], like = mul1)\n",
    "            y1[n] = Fxp(mul1[0] + reg1[0], like = y1)\n",
    "            temp = y1[n]\n",
    "            \n",
    "            # Side effect, prepare for next\n",
    "            for k in range(0, M1-1):\n",
    "                reg1[k] = Fxp(mul1[k+1] + reg1[k+1], like = reg1)\n",
    "            \n",
    "    return output_signal    "
   ]
  },
  {
   "cell_type": "markdown",
   "id": "a2b0304a-5db1-4e73-84aa-57712122d098",
   "metadata": {},
   "source": [
    "## Prikaz originalnih i zaokruženih koeficijenata filtra i ulaznog signala"
   ]
  },
  {
   "cell_type": "code",
   "execution_count": null,
   "id": "7a3ab8ba-d695-43c0-a9e1-7196cd10a2d5",
   "metadata": {},
   "outputs": [],
   "source": [
    "fig = plt.figure(figsize = (16,4))\n",
    "plt.subplots_adjust(bottom=0.3, wspace = 0.3)\n",
    "# Stem filter\n",
    "ax1 = fig.add_subplot(1,3,1)\n",
    "ax1.stem(nh, h, label = 'float')\n",
    "ax1.set_xlabel(r'$n$')\n",
    "ax1.set_ylabel(r'$h[n]$')\n",
    "\n",
    "# Prikaz zaokruzenih koeficijenata\n",
    "ax1.stem(nh, value_h, linefmt='C1--',markerfmt = 'C1s', label = 'fixed')\n",
    "ax1.legend(loc = 'upper right');\n",
    "\n",
    "# Stem output\n",
    "ax2 = fig.add_subplot(1,3,2)\n",
    "ax2.plot(n, x, label = 'float')\n",
    "ax2.plot(n, value_x, label = 'fixed')\n",
    "ax2.set_xlabel(r'$n$')\n",
    "ax2.set_ylabel(r'$y[n]$')\n",
    "ax2.legend(loc = 'upper right');"
   ]
  },
  {
   "cell_type": "markdown",
   "id": "a1a7f0d6-7304-4265-b07e-3eebe324e6ac",
   "metadata": {},
   "source": [
    "## Testiranje fxp realizacije polifaznog filtra"
   ]
  },
  {
   "cell_type": "code",
   "execution_count": null,
   "id": "07eb087d-ee07-4840-9904-5e4700d406fc",
   "metadata": {},
   "outputs": [],
   "source": [
    "decimated_signal_my_fun_direct_transposed_fxp = polyphase_decimate_fir_direct_transposed_fxp(xFxp, hFxp, 2, outFxpFormat = None)\n",
    "fig, axs = plt.subplots(figsize = [10, 5])\n",
    "plt.subplots_adjust(bottom=0.15, left = 0.15)\n",
    "plt.plot((n)[::2], decimated_signal_my_fun_direct_transposed, color = \"g\", label = \"Polyphase decimated FIR direct transposed\")\n",
    "plt.plot((n)[::2], decimated_signal_my_fun_direct_transposed_fxp, \"r\", label = \"Polyphase decimated FIR direct transposed fxp\")\n",
    "plt.plot(n, value_x, \"y\" , label = \"Original fxp\");\n",
    "plt.legend();\n"
   ]
  },
  {
   "cell_type": "markdown",
   "id": "f1942b46-7219-4367-877f-d2c494b75e89",
   "metadata": {},
   "source": [
    "## Rezultat fxp decimacije u Python-u sa kojim će se porediti rezultat iz VHDL-a"
   ]
  },
  {
   "cell_type": "code",
   "execution_count": null,
   "id": "6a3e0ab4-7d0f-4c0c-a07a-0bd1897dc500",
   "metadata": {},
   "outputs": [],
   "source": [
    "rez_py = (decimated_signal_my_fun_direct_transposed_fxp.get_val()*2**14).astype(np.int16)"
   ]
  },
  {
   "cell_type": "code",
   "execution_count": null,
   "id": "934c5bc5-9f20-4b5d-8496-2669d271cdf7",
   "metadata": {},
   "outputs": [],
   "source": [
    "print(rez_py)"
   ]
  },
  {
   "cell_type": "markdown",
   "id": "6286c3e0-f839-43dd-9107-2e3f8dfcf192",
   "metadata": {},
   "source": [
    "## Zapisivanje ulaznog signala i koeficijenata u .txt fajl koji će se koristiti u VHDL-u"
   ]
  },
  {
   "cell_type": "code",
   "execution_count": null,
   "id": "7743e604-2a10-4150-9a5a-c4cd4b6863f3",
   "metadata": {},
   "outputs": [],
   "source": [
    "num_values = 0\n",
    "NUM_ELEMENTS = len(value_x)\n",
    "value_x_scaled = (value_x*2**7).astype(np.int16)\n",
    "x1 = np.zeros(NUM_ELEMENTS).astype(np.int16)\n",
    "with open(\"input_signal_integer_for_vhdl.txt\", \"w\") as output_file:\n",
    "    # Write to file\n",
    "    for i in range(len(x1)):\n",
    "        # Write to file\n",
    "        output_file.write(f\"{int(value_x_scaled[i])}\\n\")"
   ]
  },
  {
   "cell_type": "code",
   "execution_count": null,
   "id": "53a48991-2eac-48a9-9e60-9ab15b70a3ee",
   "metadata": {},
   "outputs": [],
   "source": [
    "num_values = 0\n",
    "NUM_ELEMENTS = len(value_h)\n",
    "value_h_scaled = (value_h*2**7).astype(np.int16)\n",
    "x1 = np.zeros(NUM_ELEMENTS).astype(np.int16)\n",
    "with open(\"coefficients_integer_for_vhdl.txt\", \"w\") as output_file:\n",
    "    # Write to file\n",
    "    for i in range(len(x1)):\n",
    "        # Write to file\n",
    "        output_file.write(f\"{int(value_h_scaled[i])}\\n\")"
   ]
  },
  {
   "cell_type": "markdown",
   "id": "c6fa29a4-3711-40b7-bff3-9834471c930e",
   "metadata": {},
   "source": [
    "# 2.2 Implementacija u VHDL-u"
   ]
  },
  {
   "cell_type": "markdown",
   "id": "b17ecc4b-6d79-4b9c-838f-7f1b8497481c",
   "metadata": {},
   "source": [
    "## Stablo koeficijenata koje je dobijeno RAG postupkom prikazano je na slici u prilogu"
   ]
  },
  {
   "cell_type": "markdown",
   "id": "f2eaa504-ddbb-431e-a76b-c454cc9cd309",
   "metadata": {},
   "source": [
    "<img src=\"images/coefficients.PNG\" width=\"800\"/>"
   ]
  },
  {
   "cell_type": "code",
   "execution_count": null,
   "id": "a40ded64-26a4-4471-909c-3c69bdc60dd2",
   "metadata": {},
   "outputs": [],
   "source": [
    "num_phases = 2\n",
    "nf_filter = value_h_scaled\n",
    "polyphase_sections = [nf_filter[i::num_phases] for i in range(num_phases)]\n",
    "h0 = polyphase_sections[0]\n",
    "h1 = polyphase_sections[1]\n",
    "print(h0)\n",
    "print(h1)"
   ]
  },
  {
   "cell_type": "markdown",
   "id": "664a7d43-ce65-4e8d-8b98-075e3a6a714b",
   "metadata": {},
   "source": [
    "## Rezultat decimacije u VHDL-u sačuvan je u .txt fajl i učitan u ovu skriptu"
   ]
  },
  {
   "cell_type": "code",
   "execution_count": null,
   "id": "093c6cd3-d386-44c0-a94b-9072ebbb373b",
   "metadata": {},
   "outputs": [],
   "source": [
    "num_values = 0\n",
    "NUM_ELEMENTS = 50\n",
    "rez_vhdl = np.zeros(NUM_ELEMENTS).astype(np.int16)\n",
    "with open(\"output_signal_decimate_rag_vhdl.txt\", \"r\") as input_file:\n",
    "    # Read from file\n",
    "    for line in input_file:\n",
    "        rez_vhdl[num_values] = int(line)\n",
    "        num_values += 1\n",
    "        if num_values == (NUM_ELEMENTS):\n",
    "            break\n"
   ]
  },
  {
   "cell_type": "markdown",
   "id": "4eee406a-da0f-49b4-a3b6-469715d0661f",
   "metadata": {},
   "source": [
    "## Poređenje sa Python realizacijom, moraju se oduzeti početne nule zbog pipeline-a"
   ]
  },
  {
   "cell_type": "code",
   "execution_count": null,
   "id": "c1d9cbc1-ce44-4f73-b4fc-aa5343053a4e",
   "metadata": {},
   "outputs": [],
   "source": [
    "print(rez_vhdl[4:]-rez_py[:-4])"
   ]
  },
  {
   "cell_type": "markdown",
   "id": "e26899a8-63b0-4f1c-9931-b949a05305c8",
   "metadata": {},
   "source": [
    "## Simulacioni dijagram prikazan je na slici u prilogu"
   ]
  },
  {
   "cell_type": "markdown",
   "id": "74db6bfb-e847-4c07-b435-4c3fd387a4c6",
   "metadata": {},
   "source": [
    "<img src=\"images/sim_dijag.PNG\" width=\"800\"/>"
   ]
  },
  {
   "cell_type": "markdown",
   "id": "fce71579-3139-4119-b13a-4c2c032f08e5",
   "metadata": {},
   "source": [
    "## Poređenje rezultata koji su dobijeni poslije sinteze"
   ]
  },
  {
   "cell_type": "code",
   "execution_count": null,
   "id": "a2a9ebe5-cc26-4e08-87ca-a52bb5e2cfdf",
   "metadata": {},
   "outputs": [],
   "source": [
    "num_values = 0\n",
    "NUM_ELEMENTS = 50\n",
    "rez_vhdl_post = np.zeros(NUM_ELEMENTS).astype(np.int16)\n",
    "with open(\"output_signal_decimate_rag_vhdl_post.txt\", \"r\") as input_file:\n",
    "    # Read from file\n",
    "    for line in input_file:\n",
    "        rez_vhdl_post[num_values] = int(line)\n",
    "        num_values += 1\n",
    "        if num_values == (NUM_ELEMENTS):\n",
    "            break"
   ]
  },
  {
   "cell_type": "code",
   "execution_count": null,
   "id": "76e7c93c-c7fc-4eb7-9381-74cad4cd9fe6",
   "metadata": {},
   "outputs": [],
   "source": [
    "print(rez_vhdl_post[4:]-rez_py[:-4])"
   ]
  },
  {
   "cell_type": "markdown",
   "id": "d875bf33-68d4-42c7-9c31-3bc990ef744a",
   "metadata": {},
   "source": [
    "## Simulacioni dijagram prikazan je na slici u prilogu"
   ]
  },
  {
   "cell_type": "markdown",
   "id": "418b88e6-90ab-4397-a621-29b17be7f4c3",
   "metadata": {},
   "source": [
    "<img src=\"images/post_sint_dijag.PNG\" width=\"800\"/>"
   ]
  },
  {
   "cell_type": "markdown",
   "id": "a4d63598-b78e-43f4-a151-a8ba6d8751a7",
   "metadata": {},
   "source": [
    "## Rezultati zauzeća resursa i brzina rada"
   ]
  },
  {
   "cell_type": "markdown",
   "id": "b98a5c74-5fef-4600-a72d-99f2a136aee1",
   "metadata": {},
   "source": [
    "## Bez jednog neophodnog stepena pipeline-a, nema zadvoljenja vremenskih parametara"
   ]
  },
  {
   "cell_type": "markdown",
   "id": "13c23eb5-f85a-4e60-be24-a35e16301a89",
   "metadata": {},
   "source": [
    "<img src=\"images/without_pipeline_1_stage.PNG\" width=\"800\"/>"
   ]
  },
  {
   "cell_type": "markdown",
   "id": "a0ff516b-3cb9-4a10-a2a7-2bf921abae33",
   "metadata": {},
   "source": [
    "<img src=\"images/without_pipeline_1_stage_fmax.PNG\" width=\"800\"/>"
   ]
  },
  {
   "cell_type": "markdown",
   "id": "40a7d3c0-7006-4dd8-80bc-c0bc3c29f53c",
   "metadata": {},
   "source": [
    "## Sa neophodnim pipline-om ali bez registara u stablu"
   ]
  },
  {
   "cell_type": "markdown",
   "id": "b4ce57d1-e18a-47bd-b26e-0b53264a18ed",
   "metadata": {},
   "source": [
    "<img src=\"images/without_pipeline_fmax.PNG\" width=\"800\"/>"
   ]
  },
  {
   "cell_type": "markdown",
   "id": "98689788-24d7-4147-bb34-344961a27e12",
   "metadata": {},
   "source": [
    "<img src=\"images/reg_without_pipeline.PNG\" width=\"800\"/>"
   ]
  },
  {
   "cell_type": "markdown",
   "id": "adf74c9a-6f65-4c75-a294-3952d214c4b1",
   "metadata": {},
   "source": [
    "## Sa registrima u stablu"
   ]
  },
  {
   "cell_type": "markdown",
   "id": "a1a1cb19-00a7-4e11-bf0c-c6e532745bdc",
   "metadata": {},
   "source": [
    "<img src=\"images/pipeline_fmax.PNG\" width=\"800\"/>"
   ]
  },
  {
   "cell_type": "markdown",
   "id": "bb1d85a5-e58f-484a-9e89-c5ec248b88ff",
   "metadata": {},
   "source": [
    "<img src=\"images/reg_pipeline.PNG\" width=\"800\"/>"
   ]
  },
  {
   "cell_type": "code",
   "execution_count": null,
   "id": "1e518562-ca5d-4292-99f9-6bd7394cd565",
   "metadata": {},
   "outputs": [],
   "source": []
  }
 ],
 "metadata": {
  "kernelspec": {
   "display_name": "Python 3 (ipykernel)",
   "language": "python",
   "name": "python3"
  },
  "language_info": {
   "codemirror_mode": {
    "name": "ipython",
    "version": 3
   },
   "file_extension": ".py",
   "mimetype": "text/x-python",
   "name": "python",
   "nbconvert_exporter": "python",
   "pygments_lexer": "ipython3",
   "version": "3.9.7"
  }
 },
 "nbformat": 4,
 "nbformat_minor": 5
}
